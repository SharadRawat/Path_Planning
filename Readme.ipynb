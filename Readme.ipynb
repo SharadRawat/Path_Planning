{
 "cells": [
  {
   "cell_type": "markdown",
   "metadata": {},
   "source": [
    "## SDCND - Term 3 - Path Planning Project"
   ]
  },
  {
   "cell_type": "markdown",
   "metadata": {},
   "source": [
    "##### Goals\n",
    "\n",
    "In this project your goal is to safely navigate around a virtual highway with other traffic that is driving +-10 MPH of the 50 MPH speed limit. You will be provided the car's localization and sensor fusion data, there is also a sparse map list of waypoints around the highway. The car should try to go as close as possible to the 50 MPH speed limit, which means passing slower traffic when possible, note that other cars will try to change lanes too. The car should avoid hitting other cars at all cost as well as driving inside of the marked road lanes at all times, unless going from one lane to another. The car should be able to make one complete loop around the 6946m highway. Since the car is trying to go 50 MPH, it should take a little over 5 minutes to complete 1 loop. Also the car should not experience total acceleration over 10 m/s^2 and jerk that is greater than 10 m/s^3.\n",
    "\n",
    "The map of the highway is in data/highway_map.txt\n",
    "Each waypoint in the list contains [x,y,s,dx,dy] values. x and y are the waypoint's map coordinate position, the s value is the distance along the road to get to that waypoint in meters, the dx and dy values define the unit normal vector pointing outward of the highway loop.\n",
    "\n",
    "The highway's waypoints loop around so the frenet s value, distance along the road, goes from 0 to 6945.554."
   ]
  },
  {
   "cell_type": "markdown",
   "metadata": {},
   "source": [
    "The project must meet all points in the rubric. "
   ]
  },
  {
   "cell_type": "markdown",
   "metadata": {},
   "source": [
    "#### Project Solution"
   ]
  },
  {
   "cell_type": "markdown",
   "metadata": {},
   "source": [
    "The project has been completed in main.cpp file. Apart from main.cpp, spline.h was used as described in chapter lessons. Cubic splines were used to generate smooth trajectories. The helper functions in the main.cpp are not modified and used as is. Only the main is changed."
   ]
  },
  {
   "cell_type": "markdown",
   "metadata": {},
   "source": [
    "The max speed is within the max 50 mph. This was enforced by keeping all the velocities below a `max_vel` value set as `49.5 mph`. The acceleration and jerk is below `10 m/s^2` and `10 m/s^3` at all times becuase an increment of `0.224` which is roughly equal to `5m/s` velocity increment is enforced between lines 303 and 331."
   ]
  },
  {
   "cell_type": "markdown",
   "metadata": {},
   "source": [
    "In lines between 255 to 299, the positions of all other vehicles are analyzed relative to the 'ego' vehicle. The boolean too_close is changed to true if the two vehicles are within 30m of each other. Similarly, vehicles from neighbouring lanes are also scanned, if the vehicles are close (within the margin), `car_left` and `car_right` are changed to true."
   ]
  },
  {
   "cell_type": "markdown",
   "metadata": {},
   "source": [
    "`// Lane identifiers for other cars\n",
    "\t\t\tbool too_close = false;\n",
    "\t\t\tbool car_left = false;\n",
    "\t\t\tbool car_right = false;\n",
    "\t\t\t// Find ref_v to use, see if car is in lane\n",
    "\t\t\tfor (int i = 0; i < sensor_fusion.size(); i++) {\n",
    "\t\t\t\t// Car is in my lane\n",
    "\t\t\t\tfloat d = sensor_fusion[i][6];\n",
    "\t\t\t\t// Identify the lane of the car \n",
    "\t\t\t\tint car_lane;\n",
    "\t\t\t\tif (d >= 0 && d < 4) {\n",
    "\t\t\t\t\tcar_lane = 0;\n",
    "\t\t\t\t} else if (d >= 4 && d < 8) {\n",
    "\t\t\t\t\tcar_lane = 1;\n",
    "\t\t\t\t} else if (d >= 8 && d <= 12) {\n",
    "\t\t\t\t\tcar_lane = 2;\n",
    "\t\t\t\t} else {\n",
    "\t\t\t\t\tcontinue;\n",
    "\t\t\t\t}\n",
    "\t\t\t\t// Check width of lane, in case cars are merging into our lane\n",
    "\t\t\t\tdouble vx = sensor_fusion[i][3];\n",
    "\t\t\t\tdouble vy = sensor_fusion[i][4];\n",
    "\t\t\t\tdouble check_speed = sqrt(vx*vx + vy*vy);\n",
    "\t\t\t\tdouble check_car_s = sensor_fusion[i][5];\n",
    "\t\t\t\t// If using previous points can project an s value outwards in time\n",
    "\t\t\t\t// (What position we will be in in the future)\n",
    "\t\t\t\t// check s values greater than ours and s gap\n",
    "\t\t\t\tcheck_car_s += ((double)prev_size*0.02*check_speed);\n",
    "\t\t\t\tint gap = 30; // m\n",
    "\t\t\t\t// Identify whether the car is ahead, to the left, or to the right\n",
    "\t\t\t\tif (car_lane == lane) {\n",
    "\t\t\t\t\t// Another car is ahead\n",
    "\t\t\t\t\ttoo_close |= (check_car_s > car_s) && ((check_car_s - car_s) < gap);\n",
    "\t\t\t\t} else if (car_lane - lane == 1) {\n",
    "\t\t\t\t\t// Another car is to the right\n",
    "\t\t\t\t\tcar_right |= ((car_s - gap) < check_car_s) && ((car_s + gap) > check_car_s);\n",
    "\t\t\t\t} else if (lane - car_lane == 1) {\n",
    "\t\t\t\t\t// Another car is to the left\n",
    "\t\t\t\t\tcar_left |= ((car_s - gap) < check_car_s) && ((car_s + gap) > check_car_s);\n",
    "\t\t\t\t}\n",
    "\t\t\t}`\n"
   ]
  },
  {
   "cell_type": "markdown",
   "metadata": {},
   "source": [
    "In line 302 to 331, logic for action has been encoded on how to change speed and how to change lanes.\n",
    "\n",
    "A) If a car is ahead within 30 meters, left and right lanes are inspected. If one of them is empty, the car will change lanes. Else it slows down.\n",
    "\n",
    "B) If the area in front of the car is clear, no matter the lane, the car speeds up.\n",
    "\n",
    "C) The car will move back to the center lane when it becomes clear. \n",
    "\n"
   ]
  },
  {
   "cell_type": "markdown",
   "metadata": {},
   "source": [
    "`double acc = 0.224;\n",
    "\t\t\tdouble max_speed = 49.5;\n",
    "\t\t\tif (too_close) {\n",
    "\t\t\t\t// A car is ahead\n",
    "\t\t\t\t// Decide to shift lanes or slow down\n",
    "\t\t\t\tif (!car_right && lane < 2) {\n",
    "\t\t\t\t\t// No car to the right AND there is a right lane -> shift right\n",
    "\t\t\t\t\tlane++;\n",
    "\t\t\t\t} else if (!car_left && lane > 0) {\n",
    "\t\t\t\t\t// No car to the left AND there is a left lane -> shift left\n",
    "\t\t\t\t\tlane--;\n",
    "\t\t\t\t} else {\n",
    "\t\t\t\t\t// Nowhere to shift -> slow down\n",
    "\t\t\t\t\tref_vel -= acc;\n",
    "\t\t\t\t}\n",
    "\t\t\t} else {\n",
    "\t\t\t\tif (lane != 1) {\n",
    "\t\t\t\t\t// Not in the center lane. Check if it is safe to move back\n",
    "\t\t\t\t\tif ((lane == 2 && !car_left) || (lane == 0 && !car_right)) {\n",
    "\t\t\t\t\t\t// Move back to the center lane\n",
    "\t\t\t\t\t\tlane = 1;\n",
    "\t\t\t\t\t}\n",
    "\t\t\t\t}\n",
    "\t\t\t\tif (ref_vel < max_speed) {\n",
    "\t\t\t\t\t// No car ahead AND we are below the speed limit -> speed limit\n",
    "\t\t\t\t\tref_vel += acc;\n",
    "\t\t\t\t}\n",
    "\t\t\t}\n",
    "`"
   ]
  },
  {
   "cell_type": "markdown",
   "metadata": {},
   "source": [
    "The trajectory is generated in the lines from 332 to 436. Here, previous 2 points are also appended in the next set of points to reduce the jerk due to sudden change in the direction. `3` evenly spaced points are generated at 30m, 60m, and 90m. A rotation and translation transformation is also applied to change the coordinate system from global to local (car's). \n",
    "\n",
    "From lines 395 to 435, the spline is used to compute the points for the trajectory."
   ]
  },
  {
   "cell_type": "markdown",
   "metadata": {},
   "source": [
    "`\n",
    "  vector<double> ptsx;\n",
    "\t\t\tvector<double> ptsy;\n",
    "\t\t\t// Reference x, y, yaw states\n",
    "\t\t\tdouble ref_x = car_x;\n",
    "\t\t\tdouble ref_y = car_y;\n",
    "\t\t\tdouble ref_yaw = deg2rad(car_yaw);\n",
    "\t\t\t// If previous size is almost empty, use the car as starting reference\n",
    "\t\t\tif (prev_size < 2) {\n",
    "\t\t\t\t// Use two points that make the path tangent to the car\n",
    "\t\t\t\tdouble prev_car_x = car_x - cos(car_yaw);\n",
    "\t\t\t\tdouble prev_car_y = car_y - sin(car_yaw);\n",
    "\t\t\t\tptsx.push_back(prev_car_x);\n",
    "\t\t\t\tptsx.push_back(car_x);\n",
    "\t\t\t\tptsy.push_back(prev_car_y);\n",
    "\t\t\t\tptsy.push_back(car_y);\n",
    "\t\t\t} else {\n",
    "\t\t\t\t// Use the previous path's endpoint as starting ref\n",
    "\t\t\t\t// Redefine reference state as previous path end point\n",
    "        \t\t// Last point\n",
    "\t\t\t\tref_x = previous_path_x[prev_size-1];\n",
    "\t\t\t\tref_y = previous_path_y[prev_size-1];\n",
    "\t\t\t\t// 2nd-to-last point\n",
    "\t\t\t\tdouble ref_x_prev = previous_path_x[prev_size-2];\n",
    "\t\t\t\tdouble ref_y_prev = previous_path_y[prev_size-2];\n",
    "\t\t\t\tref_yaw = atan2(ref_y-ref_y_prev, ref_x-ref_x_prev);\n",
    "\t\t\t\t// Use two points that make the path tangent to the path's previous endpoint\n",
    "\t\t\t\tptsx.push_back(ref_x_prev);\n",
    "\t\t\t\tptsx.push_back(ref_x);\n",
    "\t\t\t\tptsy.push_back(ref_y_prev);\n",
    "\t\t\t\tptsy.push_back(ref_y);\n",
    "\t\t\t}\n",
    "\t\t\t// Using Frenet, add 30 m evenly spaced points ahead of the starting reference\n",
    "\t\t\tvector<double> next_wp0 = getXY(car_s+30, (2+4*lane), map_waypoints_s, map_waypoints_x, map_waypoints_y);\n",
    "\t\t\tvector<double> next_wp1 = getXY(car_s+60, (2+4*lane), map_waypoints_s, map_waypoints_x, map_waypoints_y);\n",
    "\t\t\tvector<double> next_wp2 = getXY(car_s+90, (2+4*lane), map_waypoints_s, map_waypoints_x, map_waypoints_y);\n",
    "\t\t\tptsx.push_back(next_wp0[0]);\n",
    "\t\t\tptsx.push_back(next_wp1[0]);\n",
    "\t\t\tptsx.push_back(next_wp2[0]);\n",
    "\t\t\tptsy.push_back(next_wp0[1]);\n",
    "\t\t\tptsy.push_back(next_wp1[1]);\n",
    "\t\t\tptsy.push_back(next_wp2[1]);\n",
    "\t\t\tfor (int i = 0; i < ptsx.size(); i++) {\n",
    "\t\t\t\t// Shift car reference angle to 0 degrees\n",
    "\t\t\t\tdouble shift_x = ptsx[i] - ref_x;\n",
    "\t\t\t\tdouble shift_y = ptsy[i] - ref_y;\n",
    "\t\t\t\tptsx[i] = (shift_x * cos(0-ref_yaw) - shift_y * sin(0-ref_yaw));\n",
    "\t\t\t\tptsy[i] = (shift_x * sin(0-ref_yaw) + shift_y * cos(0-ref_yaw));\n",
    "\t\t\t}\n",
    "\t\t\t// Create a spline called s\n",
    "\t\t\ttk::spline s;\n",
    "\t\t\t// Set (x,y) points to the spline\n",
    "\t\t\ts.set_points(ptsx, ptsy);\n",
    "\t\t\t// Define the actual (x,y) points we will use for the planner\n",
    "\t\t\tvector<double> next_x_vals;\n",
    "\t\t\tvector<double> next_y_vals;\n",
    "\t\t\t// Start with all the previous path points from last time\n",
    "\t\t\tfor (int i = 0; i < previous_path_x.size(); i++) {\n",
    "\t\t\t\tnext_x_vals.push_back(previous_path_x[i]);\n",
    "\t\t\t\tnext_y_vals.push_back(previous_path_y[i]);\n",
    "\t\t\t}\n",
    "\t\t\t// Compute how to break up spline points so we travel at our desired reference velocity\n",
    "\t\t\tdouble target_x = 30.0;\n",
    "\t\t\tdouble target_y = s(target_x);\n",
    "\t\t\tdouble target_dist = sqrt((target_x) * (target_x) + (target_y) * (target_y));\n",
    "\t\t\tdouble x_add_on = 0;\n",
    "\t\t\t// Fill up the rest of the path planner to always output 50 points\n",
    "\t\t\tfor (int i = 1; i <= 50 - previous_path_x.size(); i++) {\n",
    "\t\t\t\tdouble N = (target_dist/(.02*ref_vel/2.24));\n",
    "\t\t\t\tdouble x_point = x_add_on + (target_x) / N;\n",
    "\t\t\t\tdouble y_point = s(x_point);\n",
    "\t\t\t\tx_add_on = x_point;\n",
    "\t\t\t\tdouble x_ref = x_point;\n",
    "\t\t\t\tdouble y_ref = y_point;\n",
    "\t\t\t\t// Rotate back to normal after rotating it earlier\n",
    "\t\t\t\tx_point = (x_ref * cos(ref_yaw) - y_ref*sin(ref_yaw));\n",
    "\t\t\t\ty_point = (x_ref * sin(ref_yaw) + y_ref*cos(ref_yaw));\n",
    "\t\t\t\tx_point += ref_x;\n",
    "\t\t\t\ty_point += ref_y;\n",
    "\t\t\t\tnext_x_vals.push_back(x_point);\n",
    "\t\t\t\tnext_y_vals.push_back(y_point);\n",
    "\t\t\t}\n",
    "`"
   ]
  },
  {
   "cell_type": "code",
   "execution_count": null,
   "metadata": {},
   "outputs": [],
   "source": []
  }
 ],
 "metadata": {
  "kernelspec": {
   "display_name": "Python 3",
   "language": "python",
   "name": "python3"
  },
  "language_info": {
   "codemirror_mode": {
    "name": "ipython",
    "version": 3
   },
   "file_extension": ".py",
   "mimetype": "text/x-python",
   "name": "python",
   "nbconvert_exporter": "python",
   "pygments_lexer": "ipython3",
   "version": "3.6.5"
  }
 },
 "nbformat": 4,
 "nbformat_minor": 2
}
